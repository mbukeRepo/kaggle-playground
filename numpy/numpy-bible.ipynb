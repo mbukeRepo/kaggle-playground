{
 "cells": [
  {
   "cell_type": "markdown",
   "id": "ce0f9af6-56e1-438b-8096-96c2b0051b5d",
   "metadata": {},
   "source": [
    "**Indexing**"
   ]
  },
  {
   "cell_type": "code",
   "execution_count": 1,
   "id": "5fe443ff-98a1-4897-b65e-74e9c59b271e",
   "metadata": {},
   "outputs": [],
   "source": [
    "import numpy as np"
   ]
  },
  {
   "cell_type": "code",
   "execution_count": 2,
   "id": "6b60b63a-e00e-49e4-b365-23fd19164c52",
   "metadata": {},
   "outputs": [],
   "source": [
    "array = np.arange(1, 11)"
   ]
  },
  {
   "cell_type": "code",
   "execution_count": 3,
   "id": "7d0ed754-420c-4c2d-89bd-893406073e9c",
   "metadata": {},
   "outputs": [
    {
     "data": {
      "text/plain": [
       "array([ 1,  2,  3,  4,  5,  6,  7,  8,  9, 10])"
      ]
     },
     "execution_count": 3,
     "metadata": {},
     "output_type": "execute_result"
    }
   ],
   "source": [
    "array"
   ]
  },
  {
   "cell_type": "code",
   "execution_count": 4,
   "id": "49fb9381-f7e2-4da3-964d-5ea995933768",
   "metadata": {},
   "outputs": [
    {
     "data": {
      "text/plain": [
       "5"
      ]
     },
     "execution_count": 4,
     "metadata": {},
     "output_type": "execute_result"
    }
   ],
   "source": [
    "array[4]"
   ]
  },
  {
   "cell_type": "code",
   "execution_count": 5,
   "id": "04c68688-d046-40d2-845f-ddca2fc85110",
   "metadata": {},
   "outputs": [
    {
     "data": {
      "text/plain": [
       "10"
      ]
     },
     "execution_count": 5,
     "metadata": {},
     "output_type": "execute_result"
    }
   ],
   "source": [
    "array[-1]"
   ]
  },
  {
   "cell_type": "code",
   "execution_count": 6,
   "id": "3e3861c3-f62d-4b3b-ac87-afc1d2b67e7e",
   "metadata": {},
   "outputs": [],
   "source": [
    "array = np.array([[1, 2, 3], [4, 5, 6], [7, 8, 9]])"
   ]
  },
  {
   "cell_type": "code",
   "execution_count": 7,
   "id": "337df49e-8a38-47fe-9f52-73b5d9e37b1d",
   "metadata": {},
   "outputs": [
    {
     "data": {
      "text/plain": [
       "array([[1, 2, 3],\n",
       "       [4, 5, 6],\n",
       "       [7, 8, 9]])"
      ]
     },
     "execution_count": 7,
     "metadata": {},
     "output_type": "execute_result"
    }
   ],
   "source": [
    "array"
   ]
  },
  {
   "cell_type": "code",
   "execution_count": 8,
   "id": "52464329-a45e-44dc-ad52-7e0470b666bf",
   "metadata": {},
   "outputs": [
    {
     "data": {
      "text/plain": [
       "2"
      ]
     },
     "execution_count": 8,
     "metadata": {},
     "output_type": "execute_result"
    }
   ],
   "source": [
    "array[0][1]"
   ]
  },
  {
   "cell_type": "markdown",
   "id": "746b62a9-f520-436e-9ea4-9996009b237a",
   "metadata": {},
   "source": [
    "**Slicing**"
   ]
  },
  {
   "cell_type": "code",
   "execution_count": 9,
   "id": "9c8a8a02-3022-4bc9-a3bc-afa76d79463d",
   "metadata": {},
   "outputs": [],
   "source": [
    "array = np.arange(1, 20)"
   ]
  },
  {
   "cell_type": "code",
   "execution_count": 10,
   "id": "a06d0d9f-b876-49a7-9c52-c62e3ec09111",
   "metadata": {},
   "outputs": [
    {
     "data": {
      "text/plain": [
       "array([ 1,  2,  3,  4,  5,  6,  7,  8,  9, 10, 11, 12, 13, 14, 15, 16, 17,\n",
       "       18, 19])"
      ]
     },
     "execution_count": 10,
     "metadata": {},
     "output_type": "execute_result"
    }
   ],
   "source": [
    "array"
   ]
  },
  {
   "cell_type": "code",
   "execution_count": 11,
   "id": "63dbe827-56ce-45b4-bcfd-f731c74626e9",
   "metadata": {},
   "outputs": [],
   "source": [
    "# array[start:stop:step]"
   ]
  },
  {
   "cell_type": "code",
   "execution_count": 12,
   "id": "ac99254e-95e7-417e-a384-69ad3e55035a",
   "metadata": {},
   "outputs": [
    {
     "data": {
      "text/plain": [
       "array([ 2,  4,  6,  8, 10, 12, 14, 16])"
      ]
     },
     "execution_count": 12,
     "metadata": {},
     "output_type": "execute_result"
    }
   ],
   "source": [
    "array[1:-2:2]"
   ]
  },
  {
   "cell_type": "code",
   "execution_count": 13,
   "id": "19f028ae-e17c-47e4-9c15-d1aa1a2a8862",
   "metadata": {},
   "outputs": [],
   "source": [
    "# 2dim arrays?"
   ]
  },
  {
   "cell_type": "code",
   "execution_count": 14,
   "id": "4f32e6c4-09c7-453d-9af2-da95453d68a5",
   "metadata": {},
   "outputs": [],
   "source": [
    "array = np.arange(30).reshape(6, 5)"
   ]
  },
  {
   "cell_type": "code",
   "execution_count": 15,
   "id": "435dc597-44ad-43ae-9df9-612663617e38",
   "metadata": {},
   "outputs": [
    {
     "data": {
      "text/plain": [
       "array([[ 0,  1,  2,  3,  4],\n",
       "       [ 5,  6,  7,  8,  9],\n",
       "       [10, 11, 12, 13, 14],\n",
       "       [15, 16, 17, 18, 19],\n",
       "       [20, 21, 22, 23, 24],\n",
       "       [25, 26, 27, 28, 29]])"
      ]
     },
     "execution_count": 15,
     "metadata": {},
     "output_type": "execute_result"
    }
   ],
   "source": [
    "array"
   ]
  },
  {
   "cell_type": "code",
   "execution_count": 16,
   "id": "03edd999-23e0-4905-8621-ebce6df07180",
   "metadata": {},
   "outputs": [],
   "source": [
    "# array[rowIdx, slicing row]"
   ]
  },
  {
   "cell_type": "code",
   "execution_count": 18,
   "id": "fd85b2b8-59ad-4c67-a093-631938a43d5f",
   "metadata": {},
   "outputs": [
    {
     "data": {
      "text/plain": [
       "array([10, 11, 12])"
      ]
     },
     "execution_count": 18,
     "metadata": {},
     "output_type": "execute_result"
    }
   ],
   "source": [
    "array[2, :-2]"
   ]
  },
  {
   "cell_type": "code",
   "execution_count": 19,
   "id": "f2813e54-0d6d-4c31-9d91-2dc2db551bea",
   "metadata": {},
   "outputs": [],
   "source": [
    "# all rows and certain column"
   ]
  },
  {
   "cell_type": "code",
   "execution_count": 20,
   "id": "9de2452f-6ba3-4a48-997b-1d2fb810d6dc",
   "metadata": {},
   "outputs": [
    {
     "data": {
      "text/plain": [
       "array([ 0,  5, 10, 15, 20, 25])"
      ]
     },
     "execution_count": 20,
     "metadata": {},
     "output_type": "execute_result"
    }
   ],
   "source": [
    "array[:, 0]"
   ]
  },
  {
   "cell_type": "code",
   "execution_count": 21,
   "id": "7f9ebe1d-b2dc-4f39-b837-24ffe33c5078",
   "metadata": {},
   "outputs": [],
   "source": [
    "# only first row"
   ]
  },
  {
   "cell_type": "code",
   "execution_count": 22,
   "id": "b7513ca8-667a-4442-81e0-f5322424558e",
   "metadata": {},
   "outputs": [
    {
     "data": {
      "text/plain": [
       "array([0, 1, 2, 3, 4])"
      ]
     },
     "execution_count": 22,
     "metadata": {},
     "output_type": "execute_result"
    }
   ],
   "source": [
    "array[0]"
   ]
  },
  {
   "cell_type": "code",
   "execution_count": 23,
   "id": "fe5146ec-95fb-41b6-843d-846ded60253e",
   "metadata": {},
   "outputs": [
    {
     "data": {
      "text/plain": [
       "array([[ 5,  6,  7],\n",
       "       [10, 11, 12],\n",
       "       [15, 16, 17]])"
      ]
     },
     "execution_count": 23,
     "metadata": {},
     "output_type": "execute_result"
    }
   ],
   "source": [
    "array[1:4, 0:3]"
   ]
  },
  {
   "cell_type": "markdown",
   "id": "15311a24-507d-4393-b499-7dacf682939e",
   "metadata": {},
   "source": [
    "**Value assignment**"
   ]
  },
  {
   "cell_type": "code",
   "execution_count": 24,
   "id": "27d028d8-2194-4e0f-929a-471f9e046411",
   "metadata": {},
   "outputs": [
    {
     "data": {
      "text/plain": [
       "array([[ 0,  1,  2,  3,  4],\n",
       "       [ 5,  6,  7,  8,  9],\n",
       "       [10, 11, 12, 13, 14],\n",
       "       [15, 16, 17, 18, 19],\n",
       "       [20, 21, 22, 23, 24],\n",
       "       [25, 26, 27, 28, 29]])"
      ]
     },
     "execution_count": 24,
     "metadata": {},
     "output_type": "execute_result"
    }
   ],
   "source": [
    "array"
   ]
  },
  {
   "cell_type": "code",
   "execution_count": 25,
   "id": "bf9ee9e3-70c0-4145-8409-8b1e86702ba0",
   "metadata": {},
   "outputs": [],
   "source": [
    "array[0, 0] = 4"
   ]
  },
  {
   "cell_type": "code",
   "execution_count": 26,
   "id": "8d2b611b-d517-422f-ba49-e8404e30e7aa",
   "metadata": {},
   "outputs": [
    {
     "data": {
      "text/plain": [
       "array([[ 4,  1,  2,  3,  4],\n",
       "       [ 5,  6,  7,  8,  9],\n",
       "       [10, 11, 12, 13, 14],\n",
       "       [15, 16, 17, 18, 19],\n",
       "       [20, 21, 22, 23, 24],\n",
       "       [25, 26, 27, 28, 29]])"
      ]
     },
     "execution_count": 26,
     "metadata": {},
     "output_type": "execute_result"
    }
   ],
   "source": [
    "array"
   ]
  },
  {
   "cell_type": "code",
   "execution_count": 27,
   "id": "df7ac1fd-5c98-414e-b3df-c3c9200f506d",
   "metadata": {},
   "outputs": [],
   "source": [
    "array = np.arange(20, 40)"
   ]
  },
  {
   "cell_type": "code",
   "execution_count": 28,
   "id": "3fac479a-a14e-4f9c-a798-d6dcdae412b8",
   "metadata": {},
   "outputs": [
    {
     "data": {
      "text/plain": [
       "array([20, 21, 22, 23, 24, 25, 26, 27, 28, 29, 30, 31, 32, 33, 34, 35, 36,\n",
       "       37, 38, 39])"
      ]
     },
     "execution_count": 28,
     "metadata": {},
     "output_type": "execute_result"
    }
   ],
   "source": [
    "array"
   ]
  },
  {
   "cell_type": "code",
   "execution_count": 29,
   "id": "1e42e391-e71e-4621-9196-6e17d7567b03",
   "metadata": {},
   "outputs": [],
   "source": [
    "array[0] = 40"
   ]
  },
  {
   "cell_type": "code",
   "execution_count": 31,
   "id": "154a6b4a-a5a7-4e88-a57b-5bdcc6887ba9",
   "metadata": {},
   "outputs": [
    {
     "data": {
      "text/plain": [
       "array([40, 21, 22, 23, 24, 25, 26, 27, 28, 29, 30, 31, 32, 33, 34, 35, 36,\n",
       "       37, 38, 39])"
      ]
     },
     "execution_count": 31,
     "metadata": {},
     "output_type": "execute_result"
    }
   ],
   "source": [
    "array"
   ]
  },
  {
   "cell_type": "code",
   "execution_count": 32,
   "id": "59e608c3-8713-4950-b94e-3b90526b5a85",
   "metadata": {},
   "outputs": [],
   "source": [
    "array[0:5] = 10"
   ]
  },
  {
   "cell_type": "code",
   "execution_count": 33,
   "id": "7d50a7b3-e647-4bea-954f-e0763585ee53",
   "metadata": {},
   "outputs": [
    {
     "data": {
      "text/plain": [
       "array([10, 10, 10, 10, 10, 25, 26, 27, 28, 29, 30, 31, 32, 33, 34, 35, 36,\n",
       "       37, 38, 39])"
      ]
     },
     "execution_count": 33,
     "metadata": {},
     "output_type": "execute_result"
    }
   ],
   "source": [
    "array"
   ]
  },
  {
   "cell_type": "code",
   "execution_count": 34,
   "id": "2effeff7-2435-47de-8d47-6df712bfb6bb",
   "metadata": {},
   "outputs": [],
   "source": [
    "array[5:] = 40"
   ]
  },
  {
   "cell_type": "code",
   "execution_count": 35,
   "id": "7a7e4f22-1e7b-4fd9-a419-4f8c2c0b073a",
   "metadata": {},
   "outputs": [
    {
     "data": {
      "text/plain": [
       "array([10, 10, 10, 10, 10, 40, 40, 40, 40, 40, 40, 40, 40, 40, 40, 40, 40,\n",
       "       40, 40, 40])"
      ]
     },
     "execution_count": 35,
     "metadata": {},
     "output_type": "execute_result"
    }
   ],
   "source": [
    "array"
   ]
  },
  {
   "cell_type": "code",
   "execution_count": 36,
   "id": "a5887653-0c81-4877-82b4-afe550db6544",
   "metadata": {},
   "outputs": [],
   "source": [
    "# you can slice then assign"
   ]
  },
  {
   "cell_type": "code",
   "execution_count": 37,
   "id": "e346010a-2187-4cf8-b472-c883f73055a0",
   "metadata": {},
   "outputs": [
    {
     "data": {
      "text/plain": [
       "array([10, 10, 10, 10, 10, 40, 40, 40, 40, 40, 40, 40, 40, 40, 40, 40, 40,\n",
       "       40, 40, 40])"
      ]
     },
     "execution_count": 37,
     "metadata": {},
     "output_type": "execute_result"
    }
   ],
   "source": [
    "array"
   ]
  },
  {
   "cell_type": "code",
   "execution_count": 38,
   "id": "50fa1780-529e-4484-87f7-796992a7f1c9",
   "metadata": {},
   "outputs": [],
   "source": [
    "# fancy indices for 1-d arrays"
   ]
  },
  {
   "cell_type": "code",
   "execution_count": 39,
   "id": "4099aec7-460e-4602-af40-68393a32d5da",
   "metadata": {},
   "outputs": [
    {
     "data": {
      "text/plain": [
       "array([10, 40, 40])"
      ]
     },
     "execution_count": 39,
     "metadata": {},
     "output_type": "execute_result"
    }
   ],
   "source": [
    "array[[0, 10, 12]]"
   ]
  },
  {
   "cell_type": "code",
   "execution_count": 40,
   "id": "9cf5ebc9-6f96-4e98-8cfa-bba831056b75",
   "metadata": {},
   "outputs": [],
   "source": [
    "# fancy indices for 2-d arrays"
   ]
  },
  {
   "cell_type": "code",
   "execution_count": 41,
   "id": "7a39bfe0-7291-4300-8b45-8a1c015f8e5e",
   "metadata": {},
   "outputs": [],
   "source": [
    "array = np.zeros((10, 10), dtype=\"int\")"
   ]
  },
  {
   "cell_type": "code",
   "execution_count": 42,
   "id": "41b020e2-72c1-4c9d-835e-df1c5590ba39",
   "metadata": {},
   "outputs": [
    {
     "data": {
      "text/plain": [
       "array([[0, 0, 0, 0, 0, 0, 0, 0, 0, 0],\n",
       "       [0, 0, 0, 0, 0, 0, 0, 0, 0, 0],\n",
       "       [0, 0, 0, 0, 0, 0, 0, 0, 0, 0],\n",
       "       [0, 0, 0, 0, 0, 0, 0, 0, 0, 0],\n",
       "       [0, 0, 0, 0, 0, 0, 0, 0, 0, 0],\n",
       "       [0, 0, 0, 0, 0, 0, 0, 0, 0, 0],\n",
       "       [0, 0, 0, 0, 0, 0, 0, 0, 0, 0],\n",
       "       [0, 0, 0, 0, 0, 0, 0, 0, 0, 0],\n",
       "       [0, 0, 0, 0, 0, 0, 0, 0, 0, 0],\n",
       "       [0, 0, 0, 0, 0, 0, 0, 0, 0, 0]])"
      ]
     },
     "execution_count": 42,
     "metadata": {},
     "output_type": "execute_result"
    }
   ],
   "source": [
    "array"
   ]
  },
  {
   "cell_type": "code",
   "execution_count": 43,
   "id": "5a41550e-9c04-493a-af4e-cd6ab020c824",
   "metadata": {},
   "outputs": [
    {
     "data": {
      "text/plain": [
       "(10, 10)"
      ]
     },
     "execution_count": 43,
     "metadata": {},
     "output_type": "execute_result"
    }
   ],
   "source": [
    "array.shape"
   ]
  },
  {
   "cell_type": "code",
   "execution_count": 45,
   "id": "17d7524d-6499-4abf-a163-54eccb3a3161",
   "metadata": {},
   "outputs": [],
   "source": [
    "for i in range(10):\n",
    "    array[i] =  i"
   ]
  },
  {
   "cell_type": "code",
   "execution_count": 46,
   "id": "03ac1b32-e776-4b93-ab4d-9cc797d0b7f2",
   "metadata": {},
   "outputs": [
    {
     "data": {
      "text/plain": [
       "array([[0, 0, 0, 0, 0, 0, 0, 0, 0, 0],\n",
       "       [1, 1, 1, 1, 1, 1, 1, 1, 1, 1],\n",
       "       [2, 2, 2, 2, 2, 2, 2, 2, 2, 2],\n",
       "       [3, 3, 3, 3, 3, 3, 3, 3, 3, 3],\n",
       "       [4, 4, 4, 4, 4, 4, 4, 4, 4, 4],\n",
       "       [5, 5, 5, 5, 5, 5, 5, 5, 5, 5],\n",
       "       [6, 6, 6, 6, 6, 6, 6, 6, 6, 6],\n",
       "       [7, 7, 7, 7, 7, 7, 7, 7, 7, 7],\n",
       "       [8, 8, 8, 8, 8, 8, 8, 8, 8, 8],\n",
       "       [9, 9, 9, 9, 9, 9, 9, 9, 9, 9]])"
      ]
     },
     "execution_count": 46,
     "metadata": {},
     "output_type": "execute_result"
    }
   ],
   "source": [
    "array"
   ]
  },
  {
   "cell_type": "code",
   "execution_count": 47,
   "id": "a9e0793f-7527-4da2-b754-9229b64203a6",
   "metadata": {},
   "outputs": [],
   "source": [
    "indices = [1, 3, 5, 7]"
   ]
  },
  {
   "cell_type": "code",
   "execution_count": 48,
   "id": "8de3ce71-5149-4bb5-a860-3403eb8f2343",
   "metadata": {},
   "outputs": [
    {
     "data": {
      "text/plain": [
       "array([[1, 1, 1, 1, 1, 1, 1, 1, 1, 1],\n",
       "       [3, 3, 3, 3, 3, 3, 3, 3, 3, 3],\n",
       "       [5, 5, 5, 5, 5, 5, 5, 5, 5, 5],\n",
       "       [7, 7, 7, 7, 7, 7, 7, 7, 7, 7]])"
      ]
     },
     "execution_count": 48,
     "metadata": {},
     "output_type": "execute_result"
    }
   ],
   "source": [
    "array[indices]"
   ]
  },
  {
   "cell_type": "code",
   "execution_count": 49,
   "id": "55467844-3ce7-41cc-9177-0c7a81925621",
   "metadata": {},
   "outputs": [],
   "source": [
    "array = np.arange(1, 17).reshape(4, 4)"
   ]
  },
  {
   "cell_type": "code",
   "execution_count": 50,
   "id": "62088179-c016-4921-941f-63edcac2859f",
   "metadata": {},
   "outputs": [
    {
     "data": {
      "text/plain": [
       "array([[ 1,  2,  3,  4],\n",
       "       [ 5,  6,  7,  8],\n",
       "       [ 9, 10, 11, 12],\n",
       "       [13, 14, 15, 16]])"
      ]
     },
     "execution_count": 50,
     "metadata": {},
     "output_type": "execute_result"
    }
   ],
   "source": [
    "array"
   ]
  },
  {
   "cell_type": "code",
   "execution_count": 51,
   "id": "b474a304-20ff-4d5f-8781-c358f33c4eb1",
   "metadata": {},
   "outputs": [
    {
     "data": {
      "text/plain": [
       "array([ 2, 15])"
      ]
     },
     "execution_count": 51,
     "metadata": {},
     "output_type": "execute_result"
    }
   ],
   "source": [
    "array[[0, 3], [1, 2]]"
   ]
  },
  {
   "cell_type": "code",
   "execution_count": 52,
   "id": "9413379a-149c-467a-bb63-699235471a16",
   "metadata": {},
   "outputs": [],
   "source": [
    "# to get 2, 15 => [r2, r15] , [c2, c15]"
   ]
  },
  {
   "cell_type": "code",
   "execution_count": 53,
   "id": "68a3308b-6edf-43b9-aa7c-8d20ce93a490",
   "metadata": {},
   "outputs": [],
   "source": [
    "# fancy and normal indexing in practice"
   ]
  },
  {
   "cell_type": "code",
   "execution_count": 54,
   "id": "9e51da2b-1216-44c8-91fb-f2917e7c17bf",
   "metadata": {},
   "outputs": [
    {
     "data": {
      "text/plain": [
       "array([[ 1,  2,  3,  4],\n",
       "       [ 5,  6,  7,  8],\n",
       "       [ 9, 10, 11, 12],\n",
       "       [13, 14, 15, 16]])"
      ]
     },
     "execution_count": 54,
     "metadata": {},
     "output_type": "execute_result"
    }
   ],
   "source": [
    "array"
   ]
  },
  {
   "cell_type": "code",
   "execution_count": 55,
   "id": "5e032666-edb4-4495-96a5-67c1afb3024a",
   "metadata": {},
   "outputs": [],
   "source": [
    "# fucking 6, 8 right now"
   ]
  },
  {
   "cell_type": "code",
   "execution_count": 56,
   "id": "d36c4fee-f672-4f40-9301-42f0c1309015",
   "metadata": {},
   "outputs": [
    {
     "data": {
      "text/plain": [
       "array([6, 8])"
      ]
     },
     "execution_count": 56,
     "metadata": {},
     "output_type": "execute_result"
    }
   ],
   "source": [
    "array[1, [1, 3]]"
   ]
  },
  {
   "cell_type": "code",
   "execution_count": 57,
   "id": "a46910da-a435-4276-8f02-8dc9f79a11fe",
   "metadata": {},
   "outputs": [],
   "source": [
    "# slicing and normal indexing"
   ]
  },
  {
   "cell_type": "code",
   "execution_count": 58,
   "id": "f39cb7da-e6ab-419b-a165-3bbd63368b8c",
   "metadata": {},
   "outputs": [
    {
     "data": {
      "text/plain": [
       "array([[ 1,  2,  3,  4],\n",
       "       [ 5,  6,  7,  8],\n",
       "       [ 9, 10, 11, 12],\n",
       "       [13, 14, 15, 16]])"
      ]
     },
     "execution_count": 58,
     "metadata": {},
     "output_type": "execute_result"
    }
   ],
   "source": [
    "array"
   ]
  },
  {
   "cell_type": "code",
   "execution_count": 59,
   "id": "57725617-004c-4d84-a110-ad6fb1c30581",
   "metadata": {},
   "outputs": [
    {
     "data": {
      "text/plain": [
       "array([[ 2,  3],\n",
       "       [ 6,  7],\n",
       "       [10, 11],\n",
       "       [14, 15]])"
      ]
     },
     "execution_count": 59,
     "metadata": {},
     "output_type": "execute_result"
    }
   ],
   "source": [
    "array[0:, [1, 2]]"
   ]
  },
  {
   "cell_type": "code",
   "execution_count": 60,
   "id": "a748b87f-a2f1-4670-afcc-6130024767d2",
   "metadata": {},
   "outputs": [
    {
     "data": {
      "text/plain": [
       "array([[ 6,  7],\n",
       "       [10, 11]])"
      ]
     },
     "execution_count": 60,
     "metadata": {},
     "output_type": "execute_result"
    }
   ],
   "source": [
    "array[1:3, [1,2 ]]"
   ]
  },
  {
   "cell_type": "markdown",
   "id": "c52ca190-4568-43ca-bc36-76b8b361b69b",
   "metadata": {},
   "source": [
    "### Operations in numpy"
   ]
  },
  {
   "cell_type": "markdown",
   "id": "f5a41f7b-5e3d-4287-8051-5b0dc18c944b",
   "metadata": {},
   "source": [
    "**comparison operators**"
   ]
  },
  {
   "cell_type": "code",
   "execution_count": 61,
   "id": "91253c26-4a2f-433c-900c-919be3f7b485",
   "metadata": {},
   "outputs": [],
   "source": [
    "array = np.arange(1, 11)"
   ]
  },
  {
   "cell_type": "code",
   "execution_count": 62,
   "id": "2fcef09f-7b41-4953-aad2-822f366a3589",
   "metadata": {},
   "outputs": [
    {
     "data": {
      "text/plain": [
       "array([ 1,  2,  3,  4,  5,  6,  7,  8,  9, 10])"
      ]
     },
     "execution_count": 62,
     "metadata": {},
     "output_type": "execute_result"
    }
   ],
   "source": [
    "array"
   ]
  },
  {
   "cell_type": "code",
   "execution_count": 63,
   "id": "6cb8c118-d5ec-45e5-9d96-043ff8b1e8c9",
   "metadata": {},
   "outputs": [
    {
     "data": {
      "text/plain": [
       "array([False, False, False, False, False,  True,  True,  True,  True,\n",
       "        True])"
      ]
     },
     "execution_count": 63,
     "metadata": {},
     "output_type": "execute_result"
    }
   ],
   "source": [
    "array > 5"
   ]
  },
  {
   "cell_type": "code",
   "execution_count": 64,
   "id": "edda8548-0f91-4cbe-ade4-2e75bd3a6255",
   "metadata": {},
   "outputs": [
    {
     "data": {
      "text/plain": [
       "array([ 6,  7,  8,  9, 10])"
      ]
     },
     "execution_count": 64,
     "metadata": {},
     "output_type": "execute_result"
    }
   ],
   "source": [
    "array[array > 5]"
   ]
  },
  {
   "cell_type": "code",
   "execution_count": 66,
   "id": "c77f8a06-ec55-4c14-9e76-5f63a29cf939",
   "metadata": {},
   "outputs": [],
   "source": [
    "condition = (array != 8) & (array >= 6)"
   ]
  },
  {
   "cell_type": "code",
   "execution_count": 67,
   "id": "44411d96-202c-4fc0-8584-558f7c436307",
   "metadata": {},
   "outputs": [
    {
     "data": {
      "text/plain": [
       "array([ 6,  7,  9, 10])"
      ]
     },
     "execution_count": 67,
     "metadata": {},
     "output_type": "execute_result"
    }
   ],
   "source": [
    "array[condition]"
   ]
  },
  {
   "cell_type": "markdown",
   "id": "4cac94c4-03d3-4cbb-ad7f-eb515bcb93cb",
   "metadata": {},
   "source": [
    "**Arithmetic operator**"
   ]
  },
  {
   "cell_type": "code",
   "execution_count": 69,
   "id": "9147f0cb-6beb-4053-87cb-3bb2651a73a5",
   "metadata": {},
   "outputs": [
    {
     "data": {
      "text/plain": [
       "array([ 1,  2,  3,  4,  5,  6,  7,  8,  9, 10])"
      ]
     },
     "execution_count": 69,
     "metadata": {},
     "output_type": "execute_result"
    }
   ],
   "source": [
    "array"
   ]
  },
  {
   "cell_type": "code",
   "execution_count": 70,
   "id": "0b8fb134-eef4-4f9f-994e-899636183881",
   "metadata": {},
   "outputs": [
    {
     "data": {
      "text/plain": [
       "array([-1,  0,  1,  2,  3,  4,  5,  6,  7,  8])"
      ]
     },
     "execution_count": 70,
     "metadata": {},
     "output_type": "execute_result"
    }
   ],
   "source": [
    "array - 2"
   ]
  },
  {
   "cell_type": "code",
   "execution_count": 71,
   "id": "33f1d62e-8f5a-4087-b010-f71250fee7a5",
   "metadata": {},
   "outputs": [
    {
     "data": {
      "text/plain": [
       "array([ 10,  20,  30,  40,  50,  60,  70,  80,  90, 100])"
      ]
     },
     "execution_count": 71,
     "metadata": {},
     "output_type": "execute_result"
    }
   ],
   "source": [
    "array * 10"
   ]
  },
  {
   "cell_type": "code",
   "execution_count": 72,
   "id": "f9b32f77-8f5a-4037-8105-f1745cd729c3",
   "metadata": {},
   "outputs": [
    {
     "data": {
      "text/plain": [
       "array([  1,   4,   9,  16,  25,  36,  49,  64,  81, 100])"
      ]
     },
     "execution_count": 72,
     "metadata": {},
     "output_type": "execute_result"
    }
   ],
   "source": [
    "array ** 2"
   ]
  },
  {
   "cell_type": "code",
   "execution_count": 73,
   "id": "fffd548d-5478-4516-83fe-14d3a692bae1",
   "metadata": {},
   "outputs": [
    {
     "data": {
      "text/plain": [
       "10.0"
      ]
     },
     "execution_count": 73,
     "metadata": {},
     "output_type": "execute_result"
    }
   ],
   "source": [
    "np.sqrt(100)"
   ]
  },
  {
   "cell_type": "code",
   "execution_count": 74,
   "id": "012801d7-931b-47ae-8eee-2ed08f039b38",
   "metadata": {},
   "outputs": [
    {
     "data": {
      "text/plain": [
       "array([1, 2, 3, 4, 0, 1, 2, 3, 4, 0])"
      ]
     },
     "execution_count": 74,
     "metadata": {},
     "output_type": "execute_result"
    }
   ],
   "source": [
    "np.mod(array, 5)"
   ]
  },
  {
   "cell_type": "code",
   "execution_count": 75,
   "id": "30e51cb9-a029-4c20-8b58-e2ebce8ea883",
   "metadata": {},
   "outputs": [
    {
     "data": {
      "text/plain": [
       "-0.5063656411097588"
      ]
     },
     "execution_count": 75,
     "metadata": {},
     "output_type": "execute_result"
    }
   ],
   "source": [
    "np.sin(100)"
   ]
  },
  {
   "cell_type": "code",
   "execution_count": 76,
   "id": "79df7e32-6d92-4a32-a764-48ef30d6db24",
   "metadata": {},
   "outputs": [
    {
     "data": {
      "text/plain": [
       "-0.3048106211022167"
      ]
     },
     "execution_count": 76,
     "metadata": {},
     "output_type": "execute_result"
    }
   ],
   "source": [
    "np.sin(60)"
   ]
  },
  {
   "cell_type": "code",
   "execution_count": 79,
   "id": "6164b987-e56e-492f-b41c-15cbe777f455",
   "metadata": {},
   "outputs": [
    {
     "data": {
      "text/plain": [
       "0.49999999999999994"
      ]
     },
     "execution_count": 79,
     "metadata": {},
     "output_type": "execute_result"
    }
   ],
   "source": [
    "np.sin(np.pi / 6)"
   ]
  },
  {
   "cell_type": "code",
   "execution_count": 80,
   "id": "ec7de073-146a-4918-9b59-a30b97347d4c",
   "metadata": {},
   "outputs": [
    {
     "data": {
      "text/plain": [
       "array([ 1,  2,  3,  4,  5,  6,  7,  8,  9, 10])"
      ]
     },
     "execution_count": 80,
     "metadata": {},
     "output_type": "execute_result"
    }
   ],
   "source": [
    "array"
   ]
  },
  {
   "cell_type": "code",
   "execution_count": 81,
   "id": "fcc4facd-d0cc-4a3e-a475-8e4c42c6d7dc",
   "metadata": {},
   "outputs": [
    {
     "data": {
      "text/plain": [
       "55"
      ]
     },
     "execution_count": 81,
     "metadata": {},
     "output_type": "execute_result"
    }
   ],
   "source": [
    "np.sum(array)"
   ]
  },
  {
   "cell_type": "code",
   "execution_count": 82,
   "id": "0541852f-d66d-4811-816e-74fedac95a7e",
   "metadata": {},
   "outputs": [
    {
     "data": {
      "text/plain": [
       "5.5"
      ]
     },
     "execution_count": 82,
     "metadata": {},
     "output_type": "execute_result"
    }
   ],
   "source": [
    "np.mean(array)"
   ]
  },
  {
   "cell_type": "code",
   "execution_count": 83,
   "id": "df2d9493-6cab-49a0-8929-d5cb35b15be5",
   "metadata": {},
   "outputs": [
    {
     "data": {
      "text/plain": [
       "5.5"
      ]
     },
     "execution_count": 83,
     "metadata": {},
     "output_type": "execute_result"
    }
   ],
   "source": [
    "np.median(array)"
   ]
  },
  {
   "cell_type": "code",
   "execution_count": 84,
   "id": "652fe124-464b-4df8-ac38-d3250faefd2d",
   "metadata": {},
   "outputs": [
    {
     "data": {
      "text/plain": [
       "1"
      ]
     },
     "execution_count": 84,
     "metadata": {},
     "output_type": "execute_result"
    }
   ],
   "source": [
    "np.min(array)"
   ]
  },
  {
   "cell_type": "code",
   "execution_count": 85,
   "id": "b24370a4-3fc4-4146-9546-348fb8122058",
   "metadata": {},
   "outputs": [
    {
     "data": {
      "text/plain": [
       "10"
      ]
     },
     "execution_count": 85,
     "metadata": {},
     "output_type": "execute_result"
    }
   ],
   "source": [
    "np.max(array)"
   ]
  },
  {
   "cell_type": "code",
   "execution_count": 86,
   "id": "76f31f1c-81f5-4040-a9ee-c3be604ac623",
   "metadata": {},
   "outputs": [
    {
     "data": {
      "text/plain": [
       "8.25"
      ]
     },
     "execution_count": 86,
     "metadata": {},
     "output_type": "execute_result"
    }
   ],
   "source": [
    "np.var(array)"
   ]
  },
  {
   "cell_type": "markdown",
   "id": "3d89328b-f5b6-4423-be36-c782d1b5b43f",
   "metadata": {},
   "source": [
    "**Solving second degree equation**"
   ]
  },
  {
   "cell_type": "markdown",
   "id": "5bbcb660-8c02-4b96-903e-aab1b0f82d9a",
   "metadata": {},
   "source": [
    "2x + y = 5"
   ]
  },
  {
   "cell_type": "markdown",
   "id": "4725c259-4411-445d-9fde-79996a358775",
   "metadata": {},
   "source": [
    "-3x + 6y = 0"
   ]
  },
  {
   "cell_type": "code",
   "execution_count": 87,
   "id": "a69b22ae-71dc-46ba-9676-96eacd51429f",
   "metadata": {},
   "outputs": [],
   "source": [
    "coef = np.array([[2, 1], [-3, 6]])"
   ]
  },
  {
   "cell_type": "code",
   "execution_count": 88,
   "id": "9a5fd62c-008f-42bf-88dc-134d19342d09",
   "metadata": {},
   "outputs": [],
   "source": [
    "out = np.array([5, 0])"
   ]
  },
  {
   "cell_type": "code",
   "execution_count": 89,
   "id": "0bca902d-29d3-4305-a9f8-b8c5cfb696ba",
   "metadata": {},
   "outputs": [
    {
     "data": {
      "text/plain": [
       "array([5, 0])"
      ]
     },
     "execution_count": 89,
     "metadata": {},
     "output_type": "execute_result"
    }
   ],
   "source": [
    "out"
   ]
  },
  {
   "cell_type": "code",
   "execution_count": 90,
   "id": "334efdce-d6a9-4fef-9a3b-9e73ffdc242d",
   "metadata": {},
   "outputs": [
    {
     "data": {
      "text/plain": [
       "array([2., 1.])"
      ]
     },
     "execution_count": 90,
     "metadata": {},
     "output_type": "execute_result"
    }
   ],
   "source": [
    "np.linalg.solve(coef, out)"
   ]
  },
  {
   "cell_type": "markdown",
   "id": "e51c477d-bd94-4ff5-a42d-c31438935850",
   "metadata": {},
   "source": []
  }
 ],
 "metadata": {
  "kernelspec": {
   "display_name": "Python 3 (ipykernel)",
   "language": "python",
   "name": "python3"
  },
  "language_info": {
   "codemirror_mode": {
    "name": "ipython",
    "version": 3
   },
   "file_extension": ".py",
   "mimetype": "text/x-python",
   "name": "python",
   "nbconvert_exporter": "python",
   "pygments_lexer": "ipython3",
   "version": "3.8.17"
  }
 },
 "nbformat": 4,
 "nbformat_minor": 5
}
