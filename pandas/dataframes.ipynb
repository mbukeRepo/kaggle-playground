{
 "cells": [
  {
   "cell_type": "markdown",
   "id": "5da2e395-a0b3-4299-b4e9-91d033e5bdb2",
   "metadata": {},
   "source": [
    "**Dataframes**"
   ]
  },
  {
   "cell_type": "code",
   "execution_count": 1,
   "id": "9702aded-a4c9-45ec-bf49-ede2e4449a8f",
   "metadata": {},
   "outputs": [],
   "source": [
    "import pandas as pd"
   ]
  },
  {
   "cell_type": "code",
   "execution_count": 2,
   "id": "effd0885-5b84-4584-a49f-fc00bc8327e1",
   "metadata": {},
   "outputs": [],
   "source": [
    "list_values = [5, 10, 15]"
   ]
  },
  {
   "cell_type": "code",
   "execution_count": 5,
   "id": "770ea988-3306-47be-bbf9-3edd92f11335",
   "metadata": {},
   "outputs": [],
   "source": [
    "# dataframe from array"
   ]
  },
  {
   "cell_type": "code",
   "execution_count": 3,
   "id": "588898d9-7d04-48dc-8701-fc6b4e09145c",
   "metadata": {},
   "outputs": [
    {
     "data": {
      "text/plain": [
       "[5, 10, 15]"
      ]
     },
     "execution_count": 3,
     "metadata": {},
     "output_type": "execute_result"
    }
   ],
   "source": [
    "list_values"
   ]
  },
  {
   "cell_type": "code",
   "execution_count": 4,
   "id": "6489819e-3bcb-4114-8cd9-3f6a092e3d1d",
   "metadata": {},
   "outputs": [
    {
     "data": {
      "text/html": [
       "<div>\n",
       "<style scoped>\n",
       "    .dataframe tbody tr th:only-of-type {\n",
       "        vertical-align: middle;\n",
       "    }\n",
       "\n",
       "    .dataframe tbody tr th {\n",
       "        vertical-align: top;\n",
       "    }\n",
       "\n",
       "    .dataframe thead th {\n",
       "        text-align: right;\n",
       "    }\n",
       "</style>\n",
       "<table border=\"1\" class=\"dataframe\">\n",
       "  <thead>\n",
       "    <tr style=\"text-align: right;\">\n",
       "      <th></th>\n",
       "      <th>values</th>\n",
       "    </tr>\n",
       "  </thead>\n",
       "  <tbody>\n",
       "    <tr>\n",
       "      <th>0</th>\n",
       "      <td>5.0</td>\n",
       "    </tr>\n",
       "    <tr>\n",
       "      <th>1</th>\n",
       "      <td>10.0</td>\n",
       "    </tr>\n",
       "    <tr>\n",
       "      <th>2</th>\n",
       "      <td>15.0</td>\n",
       "    </tr>\n",
       "  </tbody>\n",
       "</table>\n",
       "</div>"
      ],
      "text/plain": [
       "   values\n",
       "0     5.0\n",
       "1    10.0\n",
       "2    15.0"
      ]
     },
     "execution_count": 4,
     "metadata": {},
     "output_type": "execute_result"
    }
   ],
   "source": [
    "pd.DataFrame(data=list_values, columns=[\"values\"], dtype=\"float\")"
   ]
  },
  {
   "cell_type": "code",
   "execution_count": 6,
   "id": "28327932-ab0c-453a-b296-77fa7cb287d0",
   "metadata": {},
   "outputs": [],
   "source": [
    "# dataframe from numpy array"
   ]
  },
  {
   "cell_type": "code",
   "execution_count": 7,
   "id": "a52ebd0b-13a0-4d13-b712-b4edf99a3ba5",
   "metadata": {},
   "outputs": [],
   "source": [
    "import numpy as np"
   ]
  },
  {
   "cell_type": "code",
   "execution_count": 8,
   "id": "b990f3a3-99fe-48a7-9c64-34cdc5365c05",
   "metadata": {},
   "outputs": [],
   "source": [
    "arr_example = np.random.randint(0, 50, (4, 4))"
   ]
  },
  {
   "cell_type": "code",
   "execution_count": 9,
   "id": "5d230b65-85e3-4f79-a651-7754e1e9df41",
   "metadata": {},
   "outputs": [
    {
     "data": {
      "text/plain": [
       "array([[ 3, 20,  3, 18],\n",
       "       [12, 17, 45,  7],\n",
       "       [ 9,  6, 43,  2],\n",
       "       [26, 42,  1, 32]])"
      ]
     },
     "execution_count": 9,
     "metadata": {},
     "output_type": "execute_result"
    }
   ],
   "source": [
    "arr_example"
   ]
  },
  {
   "cell_type": "code",
   "execution_count": 12,
   "id": "674a6e4e-8360-44e7-9376-f330a107606e",
   "metadata": {},
   "outputs": [],
   "source": [
    "df = pd.DataFrame(arr_example, index=[\"a\", \"b\", \"c\", \"d\"], columns=[\"Value one\", \"Value two\", \"Value three\", \"Value four\"])"
   ]
  },
  {
   "cell_type": "code",
   "execution_count": 13,
   "id": "558532c6-7abe-4ccb-b3e6-f73ccff5788e",
   "metadata": {},
   "outputs": [
    {
     "data": {
      "text/html": [
       "<div>\n",
       "<style scoped>\n",
       "    .dataframe tbody tr th:only-of-type {\n",
       "        vertical-align: middle;\n",
       "    }\n",
       "\n",
       "    .dataframe tbody tr th {\n",
       "        vertical-align: top;\n",
       "    }\n",
       "\n",
       "    .dataframe thead th {\n",
       "        text-align: right;\n",
       "    }\n",
       "</style>\n",
       "<table border=\"1\" class=\"dataframe\">\n",
       "  <thead>\n",
       "    <tr style=\"text-align: right;\">\n",
       "      <th></th>\n",
       "      <th>Value one</th>\n",
       "      <th>Value two</th>\n",
       "      <th>Value three</th>\n",
       "      <th>Value four</th>\n",
       "    </tr>\n",
       "  </thead>\n",
       "  <tbody>\n",
       "    <tr>\n",
       "      <th>a</th>\n",
       "      <td>3</td>\n",
       "      <td>20</td>\n",
       "      <td>3</td>\n",
       "      <td>18</td>\n",
       "    </tr>\n",
       "    <tr>\n",
       "      <th>b</th>\n",
       "      <td>12</td>\n",
       "      <td>17</td>\n",
       "      <td>45</td>\n",
       "      <td>7</td>\n",
       "    </tr>\n",
       "    <tr>\n",
       "      <th>c</th>\n",
       "      <td>9</td>\n",
       "      <td>6</td>\n",
       "      <td>43</td>\n",
       "      <td>2</td>\n",
       "    </tr>\n",
       "    <tr>\n",
       "      <th>d</th>\n",
       "      <td>26</td>\n",
       "      <td>42</td>\n",
       "      <td>1</td>\n",
       "      <td>32</td>\n",
       "    </tr>\n",
       "  </tbody>\n",
       "</table>\n",
       "</div>"
      ],
      "text/plain": [
       "   Value one  Value two  Value three  Value four\n",
       "a          3         20            3          18\n",
       "b         12         17           45           7\n",
       "c          9          6           43           2\n",
       "d         26         42            1          32"
      ]
     },
     "execution_count": 13,
     "metadata": {},
     "output_type": "execute_result"
    }
   ],
   "source": [
    "df.head()"
   ]
  },
  {
   "cell_type": "code",
   "execution_count": 14,
   "id": "bac76ad2-f389-4669-83bc-a8c2d1fe906a",
   "metadata": {},
   "outputs": [],
   "source": [
    "# from dictionary"
   ]
  },
  {
   "cell_type": "code",
   "execution_count": 15,
   "id": "de0d3b10-1529-4c45-9363-81b60ffe1b3e",
   "metadata": {},
   "outputs": [],
   "source": [
    "x = np.random.randint(0, 50, size=6)\n",
    "y = np.random.randint(0, 50, size=6)\n",
    "z = np.random.randint(0, 50, size=6)"
   ]
  },
  {
   "cell_type": "code",
   "execution_count": 16,
   "id": "d38a7347-f629-4ff3-b2dc-9082af598603",
   "metadata": {},
   "outputs": [
    {
     "data": {
      "text/plain": [
       "array([ 0, 40, 20, 13, 34, 21])"
      ]
     },
     "execution_count": 16,
     "metadata": {},
     "output_type": "execute_result"
    }
   ],
   "source": [
    "x"
   ]
  },
  {
   "cell_type": "code",
   "execution_count": 17,
   "id": "94fda988-67f0-4026-8039-02c531335152",
   "metadata": {},
   "outputs": [],
   "source": [
    "dict_example = {\"Value ONE\": x, \"Value TWO\": y, \"Value THREE\": z}"
   ]
  },
  {
   "cell_type": "code",
   "execution_count": 18,
   "id": "d65e3aa4-a613-492b-9387-2400b2006ca8",
   "metadata": {},
   "outputs": [
    {
     "data": {
      "text/plain": [
       "{'Value ONE': array([ 0, 40, 20, 13, 34, 21]),\n",
       " 'Value TWO': array([48, 41, 15, 47, 10, 45]),\n",
       " 'Value THREE': array([42, 43, 38, 33, 32, 21])}"
      ]
     },
     "execution_count": 18,
     "metadata": {},
     "output_type": "execute_result"
    }
   ],
   "source": [
    "dict_example"
   ]
  },
  {
   "cell_type": "code",
   "execution_count": 21,
   "id": "6110cfd8-2b55-48c3-9dc7-f8b2e90c67c3",
   "metadata": {},
   "outputs": [],
   "source": [
    "df = pd.DataFrame(dict_example)"
   ]
  },
  {
   "cell_type": "code",
   "execution_count": 20,
   "id": "f59ed846-5e1d-41ea-8af1-e68e70d1ba89",
   "metadata": {},
   "outputs": [],
   "source": [
    "# properties"
   ]
  },
  {
   "cell_type": "code",
   "execution_count": 22,
   "id": "fe93422e-1d13-4af0-bc4d-d5e83628e46c",
   "metadata": {},
   "outputs": [
    {
     "data": {
      "text/html": [
       "<div>\n",
       "<style scoped>\n",
       "    .dataframe tbody tr th:only-of-type {\n",
       "        vertical-align: middle;\n",
       "    }\n",
       "\n",
       "    .dataframe tbody tr th {\n",
       "        vertical-align: top;\n",
       "    }\n",
       "\n",
       "    .dataframe thead th {\n",
       "        text-align: right;\n",
       "    }\n",
       "</style>\n",
       "<table border=\"1\" class=\"dataframe\">\n",
       "  <thead>\n",
       "    <tr style=\"text-align: right;\">\n",
       "      <th></th>\n",
       "      <th>Value ONE</th>\n",
       "      <th>Value TWO</th>\n",
       "      <th>Value THREE</th>\n",
       "    </tr>\n",
       "  </thead>\n",
       "  <tbody>\n",
       "    <tr>\n",
       "      <th>0</th>\n",
       "      <td>0</td>\n",
       "      <td>48</td>\n",
       "      <td>42</td>\n",
       "    </tr>\n",
       "    <tr>\n",
       "      <th>1</th>\n",
       "      <td>40</td>\n",
       "      <td>41</td>\n",
       "      <td>43</td>\n",
       "    </tr>\n",
       "    <tr>\n",
       "      <th>2</th>\n",
       "      <td>20</td>\n",
       "      <td>15</td>\n",
       "      <td>38</td>\n",
       "    </tr>\n",
       "    <tr>\n",
       "      <th>3</th>\n",
       "      <td>13</td>\n",
       "      <td>47</td>\n",
       "      <td>33</td>\n",
       "    </tr>\n",
       "    <tr>\n",
       "      <th>4</th>\n",
       "      <td>34</td>\n",
       "      <td>10</td>\n",
       "      <td>32</td>\n",
       "    </tr>\n",
       "  </tbody>\n",
       "</table>\n",
       "</div>"
      ],
      "text/plain": [
       "   Value ONE  Value TWO  Value THREE\n",
       "0          0         48           42\n",
       "1         40         41           43\n",
       "2         20         15           38\n",
       "3         13         47           33\n",
       "4         34         10           32"
      ]
     },
     "execution_count": 22,
     "metadata": {},
     "output_type": "execute_result"
    }
   ],
   "source": [
    "df.head()"
   ]
  },
  {
   "cell_type": "code",
   "execution_count": 23,
   "id": "ede17bf2-e8b9-41d2-94f8-b2943f3f58a1",
   "metadata": {},
   "outputs": [
    {
     "data": {
      "text/html": [
       "<div>\n",
       "<style scoped>\n",
       "    .dataframe tbody tr th:only-of-type {\n",
       "        vertical-align: middle;\n",
       "    }\n",
       "\n",
       "    .dataframe tbody tr th {\n",
       "        vertical-align: top;\n",
       "    }\n",
       "\n",
       "    .dataframe thead th {\n",
       "        text-align: right;\n",
       "    }\n",
       "</style>\n",
       "<table border=\"1\" class=\"dataframe\">\n",
       "  <thead>\n",
       "    <tr style=\"text-align: right;\">\n",
       "      <th></th>\n",
       "      <th>Value ONE</th>\n",
       "      <th>Value TWO</th>\n",
       "      <th>Value THREE</th>\n",
       "    </tr>\n",
       "  </thead>\n",
       "  <tbody>\n",
       "    <tr>\n",
       "      <th>5</th>\n",
       "      <td>21</td>\n",
       "      <td>45</td>\n",
       "      <td>21</td>\n",
       "    </tr>\n",
       "  </tbody>\n",
       "</table>\n",
       "</div>"
      ],
      "text/plain": [
       "   Value ONE  Value TWO  Value THREE\n",
       "5         21         45           21"
      ]
     },
     "execution_count": 23,
     "metadata": {},
     "output_type": "execute_result"
    }
   ],
   "source": [
    "df.tail(1)"
   ]
  },
  {
   "cell_type": "code",
   "execution_count": 24,
   "id": "7df49841-baf4-410f-878e-5d5dec4bc06c",
   "metadata": {},
   "outputs": [
    {
     "data": {
      "text/plain": [
       "Index(['Value ONE', 'Value TWO', 'Value THREE'], dtype='object')"
      ]
     },
     "execution_count": 24,
     "metadata": {},
     "output_type": "execute_result"
    }
   ],
   "source": [
    "df.columns"
   ]
  },
  {
   "cell_type": "code",
   "execution_count": 25,
   "id": "63f5d4bc-763a-4aa4-8149-bac01915ad6a",
   "metadata": {},
   "outputs": [
    {
     "data": {
      "text/plain": [
       "RangeIndex(start=0, stop=6, step=1)"
      ]
     },
     "execution_count": 25,
     "metadata": {},
     "output_type": "execute_result"
    }
   ],
   "source": [
    "df.index"
   ]
  },
  {
   "cell_type": "code",
   "execution_count": 26,
   "id": "7c2f37f7-fb19-4ef9-8d2c-54ff486b1bfe",
   "metadata": {},
   "outputs": [
    {
     "name": "stdout",
     "output_type": "stream",
     "text": [
      "<class 'pandas.core.frame.DataFrame'>\n",
      "RangeIndex: 6 entries, 0 to 5\n",
      "Data columns (total 3 columns):\n",
      " #   Column       Non-Null Count  Dtype\n",
      "---  ------       --------------  -----\n",
      " 0   Value ONE    6 non-null      int64\n",
      " 1   Value TWO    6 non-null      int64\n",
      " 2   Value THREE  6 non-null      int64\n",
      "dtypes: int64(3)\n",
      "memory usage: 272.0 bytes\n"
     ]
    }
   ],
   "source": [
    "df.info()"
   ]
  },
  {
   "cell_type": "code",
   "execution_count": 27,
   "id": "7f60645a-5eda-45e1-b045-b401b5135577",
   "metadata": {},
   "outputs": [
    {
     "data": {
      "text/plain": [
       "array([[ 0, 48, 42],\n",
       "       [40, 41, 43],\n",
       "       [20, 15, 38],\n",
       "       [13, 47, 33],\n",
       "       [34, 10, 32],\n",
       "       [21, 45, 21]])"
      ]
     },
     "execution_count": 27,
     "metadata": {},
     "output_type": "execute_result"
    }
   ],
   "source": [
    "df.values"
   ]
  },
  {
   "cell_type": "code",
   "execution_count": 28,
   "id": "ab223b03-6237-482a-a7f2-28a40584f312",
   "metadata": {},
   "outputs": [
    {
     "data": {
      "text/plain": [
       "numpy.ndarray"
      ]
     },
     "execution_count": 28,
     "metadata": {},
     "output_type": "execute_result"
    }
   ],
   "source": [
    "type(df.values)"
   ]
  },
  {
   "cell_type": "code",
   "execution_count": 29,
   "id": "90668daf-7f86-45ed-9cdd-cc9d98fb8561",
   "metadata": {},
   "outputs": [
    {
     "data": {
      "text/plain": [
       "(6, 3)"
      ]
     },
     "execution_count": 29,
     "metadata": {},
     "output_type": "execute_result"
    }
   ],
   "source": [
    "df.shape"
   ]
  },
  {
   "cell_type": "code",
   "execution_count": 30,
   "id": "2dd066cc-907a-4528-82b7-b259cc18596c",
   "metadata": {},
   "outputs": [
    {
     "data": {
      "text/plain": [
       "2"
      ]
     },
     "execution_count": 30,
     "metadata": {},
     "output_type": "execute_result"
    }
   ],
   "source": [
    "df.ndim"
   ]
  },
  {
   "cell_type": "code",
   "execution_count": 31,
   "id": "7209c9d1-b697-43e0-a832-9ec50974d45b",
   "metadata": {},
   "outputs": [
    {
     "data": {
      "text/plain": [
       "18"
      ]
     },
     "execution_count": 31,
     "metadata": {},
     "output_type": "execute_result"
    }
   ],
   "source": [
    "df.size"
   ]
  },
  {
   "cell_type": "code",
   "execution_count": null,
   "id": "e1928696-df88-4f36-971c-cf3619742957",
   "metadata": {},
   "outputs": [],
   "source": []
  }
 ],
 "metadata": {
  "kernelspec": {
   "display_name": "Python 3 (ipykernel)",
   "language": "python",
   "name": "python3"
  },
  "language_info": {
   "codemirror_mode": {
    "name": "ipython",
    "version": 3
   },
   "file_extension": ".py",
   "mimetype": "text/x-python",
   "name": "python",
   "nbconvert_exporter": "python",
   "pygments_lexer": "ipython3",
   "version": "3.8.17"
  }
 },
 "nbformat": 4,
 "nbformat_minor": 5
}
