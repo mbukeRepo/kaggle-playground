{
 "cells": [
  {
   "cell_type": "markdown",
   "id": "f9f84495-c90a-457e-9a03-5daef10e4d84",
   "metadata": {},
   "source": [
    "**Indexing and slicing**"
   ]
  },
  {
   "cell_type": "code",
   "execution_count": 2,
   "id": "ce2dfcf3-2591-4f01-83b4-9f2df49aab00",
   "metadata": {},
   "outputs": [],
   "source": [
    "import pandas as pd"
   ]
  },
  {
   "cell_type": "code",
   "execution_count": 3,
   "id": "b1841e44-768d-40ae-b80e-62456ebbbc21",
   "metadata": {},
   "outputs": [],
   "source": [
    "exa = pd.Series([\"+90\", \"+49\", \"+33\", \"+39\"], index=[\"Turkey\", \"Germany\", \"Rwanda\", \"Urundi\"])"
   ]
  },
  {
   "cell_type": "code",
   "execution_count": 4,
   "id": "c7aa4960-35d1-4e11-9479-7ad9bc57365c",
   "metadata": {},
   "outputs": [
    {
     "data": {
      "text/plain": [
       "Turkey     +90\n",
       "Germany    +49\n",
       "Rwanda     +33\n",
       "Urundi     +39\n",
       "dtype: object"
      ]
     },
     "execution_count": 4,
     "metadata": {},
     "output_type": "execute_result"
    }
   ],
   "source": [
    "exa"
   ]
  },
  {
   "cell_type": "code",
   "execution_count": 5,
   "id": "ff6a062f-0645-4415-a8aa-2cc9e2a8f43d",
   "metadata": {},
   "outputs": [
    {
     "data": {
      "text/plain": [
       "'+49'"
      ]
     },
     "execution_count": 5,
     "metadata": {},
     "output_type": "execute_result"
    }
   ],
   "source": [
    "exa[\"Germany\"]"
   ]
  },
  {
   "cell_type": "code",
   "execution_count": 6,
   "id": "d26686c5-0d82-4ae4-aa1f-b577cd3272c1",
   "metadata": {},
   "outputs": [],
   "source": [
    "# start:stop:step"
   ]
  },
  {
   "cell_type": "code",
   "execution_count": 7,
   "id": "f0e080f0-6647-4fd3-9b70-d897565f85f0",
   "metadata": {},
   "outputs": [
    {
     "data": {
      "text/plain": [
       "Turkey     +90\n",
       "Germany    +49\n",
       "Rwanda     +33\n",
       "dtype: object"
      ]
     },
     "execution_count": 7,
     "metadata": {},
     "output_type": "execute_result"
    }
   ],
   "source": [
    "exa[\"Turkey\": \"Rwanda\"]"
   ]
  },
  {
   "cell_type": "code",
   "execution_count": 8,
   "id": "85cabe3c-9ba4-478d-8c58-a5d015f5b573",
   "metadata": {},
   "outputs": [
    {
     "data": {
      "text/plain": [
       "Germany    +49\n",
       "Rwanda     +33\n",
       "Urundi     +39\n",
       "dtype: object"
      ]
     },
     "execution_count": 8,
     "metadata": {},
     "output_type": "execute_result"
    }
   ],
   "source": [
    "exa[1: ]"
   ]
  },
  {
   "cell_type": "code",
   "execution_count": 9,
   "id": "80e84d02-9e9f-4dd1-ab4b-e4a3a4f1db8a",
   "metadata": {},
   "outputs": [
    {
     "data": {
      "text/plain": [
       "Germany    +49\n",
       "Urundi     +39\n",
       "dtype: object"
      ]
     },
     "execution_count": 9,
     "metadata": {},
     "output_type": "execute_result"
    }
   ],
   "source": [
    "exa[1::2]"
   ]
  },
  {
   "cell_type": "code",
   "execution_count": 10,
   "id": "67d4627e-43c0-42f3-8a1a-6acc54127778",
   "metadata": {},
   "outputs": [
    {
     "data": {
      "text/plain": [
       "Rwanda    +33\n",
       "dtype: object"
      ]
     },
     "execution_count": 10,
     "metadata": {},
     "output_type": "execute_result"
    }
   ],
   "source": [
    "exa[[\"Rwanda\"]]"
   ]
  },
  {
   "cell_type": "code",
   "execution_count": null,
   "id": "7d783e0d-1a1d-41e7-a2d7-ca8bb3bdcfb6",
   "metadata": {},
   "outputs": [],
   "source": []
  }
 ],
 "metadata": {
  "kernelspec": {
   "display_name": "Python 3 (ipykernel)",
   "language": "python",
   "name": "python3"
  },
  "language_info": {
   "codemirror_mode": {
    "name": "ipython",
    "version": 3
   },
   "file_extension": ".py",
   "mimetype": "text/x-python",
   "name": "python",
   "nbconvert_exporter": "python",
   "pygments_lexer": "ipython3",
   "version": "3.8.17"
  }
 },
 "nbformat": 4,
 "nbformat_minor": 5
}
