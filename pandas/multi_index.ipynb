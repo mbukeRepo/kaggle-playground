{
 "cells": [
  {
   "cell_type": "code",
   "execution_count": 1,
   "id": "f5127278-d548-4e6a-bf67-b5321c96aeb4",
   "metadata": {},
   "outputs": [],
   "source": [
    "import numpy as np"
   ]
  },
  {
   "cell_type": "code",
   "execution_count": 2,
   "id": "2a176eb2-8579-4919-8317-1d090905c26b",
   "metadata": {},
   "outputs": [],
   "source": [
    "import pandas as pd"
   ]
  },
  {
   "cell_type": "code",
   "execution_count": 3,
   "id": "e7ecd7a4-0362-4d21-b618-a90779e8483a",
   "metadata": {},
   "outputs": [],
   "source": [
    "inside = [\"class A\", \"class B\", \"class C\", \"class A\", \"class B\", \"class C\"]\n",
    "outside = [\"school 1\", \"school 1\", \"school 1\", \"school 2\", \"school 2\", \"school 2\"]"
   ]
  },
  {
   "cell_type": "code",
   "execution_count": 5,
   "id": "2bd72db6-d810-498f-a67a-91671f15447a",
   "metadata": {},
   "outputs": [],
   "source": [
    "out = zip(outside, inside)"
   ]
  },
  {
   "cell_type": "code",
   "execution_count": 6,
   "id": "cedbbc10-5432-4898-9235-68e99c0829b8",
   "metadata": {},
   "outputs": [],
   "source": [
    "multi_index = list(out)"
   ]
  },
  {
   "cell_type": "code",
   "execution_count": 7,
   "id": "d6b74134-35a0-48bc-aea6-186a04a68982",
   "metadata": {},
   "outputs": [
    {
     "data": {
      "text/plain": [
       "[('school 1', 'class A'),\n",
       " ('school 1', 'class B'),\n",
       " ('school 1', 'class C'),\n",
       " ('school 2', 'class A'),\n",
       " ('school 2', 'class B'),\n",
       " ('school 2', 'class C')]"
      ]
     },
     "execution_count": 7,
     "metadata": {},
     "output_type": "execute_result"
    }
   ],
   "source": [
    "multi_index"
   ]
  },
  {
   "cell_type": "code",
   "execution_count": 9,
   "id": "dff91763-5bd7-4b10-96bf-82056d172d0d",
   "metadata": {},
   "outputs": [],
   "source": [
    "ml = pd.MultiIndex.from_tuples(multi_index)"
   ]
  },
  {
   "cell_type": "code",
   "execution_count": 10,
   "id": "b65f07fe-3d7c-4ff6-89dd-ca691b895167",
   "metadata": {},
   "outputs": [],
   "source": [
    "np.random.seed(101)\n",
    "df = pd.DataFrame(np.random.randint(70, 100, size = (6, 2)), index=ml, columns=[\"first semester\", \"second semester\"])"
   ]
  },
  {
   "cell_type": "code",
   "execution_count": 11,
   "id": "a2aece34-f1d9-45a4-b78e-c561654ebd30",
   "metadata": {},
   "outputs": [
    {
     "data": {
      "text/html": [
       "<div>\n",
       "<style scoped>\n",
       "    .dataframe tbody tr th:only-of-type {\n",
       "        vertical-align: middle;\n",
       "    }\n",
       "\n",
       "    .dataframe tbody tr th {\n",
       "        vertical-align: top;\n",
       "    }\n",
       "\n",
       "    .dataframe thead th {\n",
       "        text-align: right;\n",
       "    }\n",
       "</style>\n",
       "<table border=\"1\" class=\"dataframe\">\n",
       "  <thead>\n",
       "    <tr style=\"text-align: right;\">\n",
       "      <th></th>\n",
       "      <th></th>\n",
       "      <th>first semester</th>\n",
       "      <th>second semester</th>\n",
       "    </tr>\n",
       "  </thead>\n",
       "  <tbody>\n",
       "    <tr>\n",
       "      <th rowspan=\"3\" valign=\"top\">school 1</th>\n",
       "      <th>class A</th>\n",
       "      <td>81</td>\n",
       "      <td>87</td>\n",
       "    </tr>\n",
       "    <tr>\n",
       "      <th>class B</th>\n",
       "      <td>76</td>\n",
       "      <td>93</td>\n",
       "    </tr>\n",
       "    <tr>\n",
       "      <th>class C</th>\n",
       "      <td>99</td>\n",
       "      <td>81</td>\n",
       "    </tr>\n",
       "    <tr>\n",
       "      <th rowspan=\"2\" valign=\"top\">school 2</th>\n",
       "      <th>class A</th>\n",
       "      <td>85</td>\n",
       "      <td>79</td>\n",
       "    </tr>\n",
       "    <tr>\n",
       "      <th>class B</th>\n",
       "      <td>83</td>\n",
       "      <td>78</td>\n",
       "    </tr>\n",
       "  </tbody>\n",
       "</table>\n",
       "</div>"
      ],
      "text/plain": [
       "                  first semester  second semester\n",
       "school 1 class A              81               87\n",
       "         class B              76               93\n",
       "         class C              99               81\n",
       "school 2 class A              85               79\n",
       "         class B              83               78"
      ]
     },
     "execution_count": 11,
     "metadata": {},
     "output_type": "execute_result"
    }
   ],
   "source": [
    "df.head()"
   ]
  },
  {
   "cell_type": "code",
   "execution_count": 12,
   "id": "9f1bdc75-fcc5-46ad-962c-b97e8b1dce97",
   "metadata": {},
   "outputs": [
    {
     "data": {
      "text/html": [
       "<div>\n",
       "<style scoped>\n",
       "    .dataframe tbody tr th:only-of-type {\n",
       "        vertical-align: middle;\n",
       "    }\n",
       "\n",
       "    .dataframe tbody tr th {\n",
       "        vertical-align: top;\n",
       "    }\n",
       "\n",
       "    .dataframe thead th {\n",
       "        text-align: right;\n",
       "    }\n",
       "</style>\n",
       "<table border=\"1\" class=\"dataframe\">\n",
       "  <thead>\n",
       "    <tr style=\"text-align: right;\">\n",
       "      <th></th>\n",
       "      <th>first semester</th>\n",
       "      <th>second semester</th>\n",
       "    </tr>\n",
       "  </thead>\n",
       "  <tbody>\n",
       "    <tr>\n",
       "      <th>class A</th>\n",
       "      <td>81</td>\n",
       "      <td>87</td>\n",
       "    </tr>\n",
       "    <tr>\n",
       "      <th>class B</th>\n",
       "      <td>76</td>\n",
       "      <td>93</td>\n",
       "    </tr>\n",
       "    <tr>\n",
       "      <th>class C</th>\n",
       "      <td>99</td>\n",
       "      <td>81</td>\n",
       "    </tr>\n",
       "  </tbody>\n",
       "</table>\n",
       "</div>"
      ],
      "text/plain": [
       "         first semester  second semester\n",
       "class A              81               87\n",
       "class B              76               93\n",
       "class C              99               81"
      ]
     },
     "execution_count": 12,
     "metadata": {},
     "output_type": "execute_result"
    }
   ],
   "source": [
    "df.loc[\"school 1\"]"
   ]
  },
  {
   "cell_type": "code",
   "execution_count": 13,
   "id": "49dfa65a-750a-4e94-a8af-a20c8a4d9a19",
   "metadata": {},
   "outputs": [
    {
     "data": {
      "text/plain": [
       "school 1  class A    81\n",
       "          class B    76\n",
       "          class C    99\n",
       "school 2  class A    85\n",
       "          class B    83\n",
       "          class C    74\n",
       "Name: first semester, dtype: int64"
      ]
     },
     "execution_count": 13,
     "metadata": {},
     "output_type": "execute_result"
    }
   ],
   "source": [
    "df[\"first semester\"]"
   ]
  },
  {
   "cell_type": "code",
   "execution_count": 15,
   "id": "6fe32190-06f7-4af7-b3a8-c28041bc0d8a",
   "metadata": {},
   "outputs": [
    {
     "data": {
      "text/plain": [
       "first semester     81\n",
       "second semester    87\n",
       "Name: class A, dtype: int64"
      ]
     },
     "execution_count": 15,
     "metadata": {},
     "output_type": "execute_result"
    }
   ],
   "source": [
    "df.loc[\"school 1\"].loc[\"class A\"]"
   ]
  },
  {
   "cell_type": "code",
   "execution_count": 17,
   "id": "096ee195-c0ff-40de-aca7-a2deb42bcd80",
   "metadata": {},
   "outputs": [
    {
     "data": {
      "text/plain": [
       "MultiIndex([('school 1', 'class A'),\n",
       "            ('school 1', 'class B'),\n",
       "            ('school 1', 'class C'),\n",
       "            ('school 2', 'class A'),\n",
       "            ('school 2', 'class B'),\n",
       "            ('school 2', 'class C')],\n",
       "           )"
      ]
     },
     "execution_count": 17,
     "metadata": {},
     "output_type": "execute_result"
    }
   ],
   "source": [
    "df.index"
   ]
  },
  {
   "cell_type": "code",
   "execution_count": 18,
   "id": "bbe4d3e3-a093-4efa-b45f-9dc4f72c6db4",
   "metadata": {},
   "outputs": [
    {
     "data": {
      "text/plain": [
       "FrozenList([None, None])"
      ]
     },
     "execution_count": 18,
     "metadata": {},
     "output_type": "execute_result"
    }
   ],
   "source": [
    "df.index.names"
   ]
  },
  {
   "cell_type": "code",
   "execution_count": 19,
   "id": "48005f5e-13d3-4145-9e1f-4ef0ad1978db",
   "metadata": {},
   "outputs": [],
   "source": [
    "df.index.names = [\"schools\", \"classes\"]"
   ]
  },
  {
   "cell_type": "code",
   "execution_count": 20,
   "id": "d5fab8ab-06ac-483f-a3f6-eff9347fb4ae",
   "metadata": {},
   "outputs": [
    {
     "data": {
      "text/plain": [
       "FrozenList(['schools', 'classes'])"
      ]
     },
     "execution_count": 20,
     "metadata": {},
     "output_type": "execute_result"
    }
   ],
   "source": [
    "df.index.names"
   ]
  },
  {
   "cell_type": "code",
   "execution_count": null,
   "id": "54a2e369-6881-40f6-8f94-813cec15a171",
   "metadata": {},
   "outputs": [],
   "source": []
  }
 ],
 "metadata": {
  "kernelspec": {
   "display_name": "Python 3 (ipykernel)",
   "language": "python",
   "name": "python3"
  },
  "language_info": {
   "codemirror_mode": {
    "name": "ipython",
    "version": 3
   },
   "file_extension": ".py",
   "mimetype": "text/x-python",
   "name": "python",
   "nbconvert_exporter": "python",
   "pygments_lexer": "ipython3",
   "version": "3.8.17"
  }
 },
 "nbformat": 4,
 "nbformat_minor": 5
}
