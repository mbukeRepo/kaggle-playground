{
 "cells": [
  {
   "cell_type": "code",
   "execution_count": 1,
   "id": "88bb1a63-fac7-46cf-96cd-fd2700a9136d",
   "metadata": {},
   "outputs": [],
   "source": [
    "# data manipulation and data analysis library"
   ]
  },
  {
   "cell_type": "code",
   "execution_count": 2,
   "id": "34ceb02d-183d-46b0-97b2-d99bdc3f57fc",
   "metadata": {},
   "outputs": [],
   "source": [
    "# collect and transform data"
   ]
  },
  {
   "cell_type": "code",
   "execution_count": 3,
   "id": "03cb82ff-78b5-4c4f-8990-7f3dab34d0c1",
   "metadata": {},
   "outputs": [],
   "source": [
    "# reshaping the datasets"
   ]
  },
  {
   "cell_type": "code",
   "execution_count": 4,
   "id": "5f4cfad9-5a11-4137-8cc2-617812c21aee",
   "metadata": {},
   "outputs": [],
   "source": [
    "# time series specific functions"
   ]
  },
  {
   "cell_type": "markdown",
   "id": "986803bd-12bf-4b1a-94b8-f86b50e55564",
   "metadata": {},
   "source": [
    "**Series**"
   ]
  },
  {
   "cell_type": "code",
   "execution_count": 5,
   "id": "5c62c55e-c17b-4de9-a791-3bf6e11172bd",
   "metadata": {},
   "outputs": [],
   "source": [
    "# similar to numpy arrays but keeps index information to each value as extra"
   ]
  },
  {
   "cell_type": "code",
   "execution_count": 6,
   "id": "6c2b9c10-4c7d-492f-a533-9eb1b8268aeb",
   "metadata": {},
   "outputs": [],
   "source": [
    "import pandas as pd"
   ]
  },
  {
   "cell_type": "code",
   "execution_count": 8,
   "id": "e6df4136-d29c-41c6-95df-1c48ce86f4f8",
   "metadata": {},
   "outputs": [
    {
     "data": {
      "text/plain": [
       "0    10\n",
       "1    20\n",
       "2    30\n",
       "3    40\n",
       "dtype: int64"
      ]
     },
     "execution_count": 8,
     "metadata": {},
     "output_type": "execute_result"
    }
   ],
   "source": [
    "pd.Series([10, 20, 30, 40])"
   ]
  },
  {
   "cell_type": "code",
   "execution_count": 10,
   "id": "8562446e-28f5-4aa1-aafa-5711b4933eec",
   "metadata": {},
   "outputs": [],
   "source": [
    "a =  [\"a\", \"b\", \"c\"]"
   ]
  },
  {
   "cell_type": "code",
   "execution_count": 11,
   "id": "a8271501-5b94-4c7f-9305-1e064c634c94",
   "metadata": {},
   "outputs": [],
   "source": [
    "b = [1, 2, 3]"
   ]
  },
  {
   "cell_type": "code",
   "execution_count": 15,
   "id": "82ed2f6f-fe0b-4444-a552-16e122026f68",
   "metadata": {},
   "outputs": [],
   "source": [
    "variable = pd.Series(data=b, index=a)"
   ]
  },
  {
   "cell_type": "code",
   "execution_count": 16,
   "id": "c0a3dee8-254d-41b6-a203-ef293e5e121e",
   "metadata": {},
   "outputs": [
    {
     "data": {
      "text/plain": [
       "pandas.core.series.Series"
      ]
     },
     "execution_count": 16,
     "metadata": {},
     "output_type": "execute_result"
    }
   ],
   "source": [
    "type(variable)"
   ]
  },
  {
   "cell_type": "code",
   "execution_count": 17,
   "id": "b3f666ee-c7ea-42f2-8bf2-0456c4f0b735",
   "metadata": {},
   "outputs": [],
   "source": [
    "# pandas with dictionaries"
   ]
  },
  {
   "cell_type": "code",
   "execution_count": 18,
   "id": "bdc326e6-3a89-4bb7-ba4d-f9b7c4476f8a",
   "metadata": {},
   "outputs": [],
   "source": [
    "dictionary = {'ferrari': 22, \"porche\": 22, \"Lambo\": 33}"
   ]
  },
  {
   "cell_type": "code",
   "execution_count": 19,
   "id": "be8e2f4b-bab6-4d98-8d93-e1c2c966eb78",
   "metadata": {},
   "outputs": [
    {
     "data": {
      "text/plain": [
       "ferrari    22\n",
       "porche     22\n",
       "Lambo      33\n",
       "dtype: int64"
      ]
     },
     "execution_count": 19,
     "metadata": {},
     "output_type": "execute_result"
    }
   ],
   "source": [
    "pd.Series(dictionary)"
   ]
  },
  {
   "cell_type": "code",
   "execution_count": 20,
   "id": "1593a614-f8af-4a39-b84e-4c5e11a24329",
   "metadata": {},
   "outputs": [],
   "source": [
    "# pandas with numpy arrays"
   ]
  },
  {
   "cell_type": "code",
   "execution_count": 21,
   "id": "27bc9e42-b63f-44e6-98d4-eebb34cb800a",
   "metadata": {},
   "outputs": [],
   "source": [
    "import numpy as np"
   ]
  },
  {
   "cell_type": "code",
   "execution_count": 22,
   "id": "06c3b194-e33e-40e4-b5a9-053e00d19be8",
   "metadata": {},
   "outputs": [],
   "source": [
    "a = np.array([\"a\", \"b\", \"c\"])"
   ]
  },
  {
   "cell_type": "code",
   "execution_count": 23,
   "id": "daa93e0d-ad19-4cc5-b4dc-15e644574339",
   "metadata": {},
   "outputs": [],
   "source": [
    "b = np.array([1, 2, 3])"
   ]
  },
  {
   "cell_type": "code",
   "execution_count": 24,
   "id": "f62b0a2c-076e-4362-a12f-01ddf6ac84d8",
   "metadata": {},
   "outputs": [],
   "source": [
    "serie = pd.Series(data=a, index=b)"
   ]
  },
  {
   "cell_type": "code",
   "execution_count": 25,
   "id": "13edeb23-b5e8-46a4-9f2d-d0f9b697c6fe",
   "metadata": {},
   "outputs": [
    {
     "data": {
      "text/plain": [
       "1    a\n",
       "2    b\n",
       "3    c\n",
       "dtype: object"
      ]
     },
     "execution_count": 25,
     "metadata": {},
     "output_type": "execute_result"
    }
   ],
   "source": [
    "serie"
   ]
  },
  {
   "cell_type": "code",
   "execution_count": 26,
   "id": "fbe6a490-0e73-404d-90f9-857c5d269178",
   "metadata": {},
   "outputs": [],
   "source": [
    "# properties on dataframes"
   ]
  },
  {
   "cell_type": "code",
   "execution_count": 27,
   "id": "f7974817-78db-4f60-8dec-37a8dd14261a",
   "metadata": {},
   "outputs": [
    {
     "data": {
      "text/plain": [
       "array(['a', 'b', 'c'], dtype='<U1')"
      ]
     },
     "execution_count": 27,
     "metadata": {},
     "output_type": "execute_result"
    }
   ],
   "source": [
    "a"
   ]
  },
  {
   "cell_type": "code",
   "execution_count": 28,
   "id": "8ea58479-0d46-4997-af19-cdd656862c79",
   "metadata": {},
   "outputs": [
    {
     "data": {
      "text/plain": [
       "array([1, 2, 3])"
      ]
     },
     "execution_count": 28,
     "metadata": {},
     "output_type": "execute_result"
    }
   ],
   "source": [
    "b"
   ]
  },
  {
   "cell_type": "code",
   "execution_count": 30,
   "id": "bcad7140-7043-4f23-badc-7a718b097e12",
   "metadata": {},
   "outputs": [
    {
     "data": {
      "text/plain": [
       "[Index([1, 2, 3], dtype='int64')]"
      ]
     },
     "execution_count": 30,
     "metadata": {},
     "output_type": "execute_result"
    }
   ],
   "source": [
    "serie.axes"
   ]
  },
  {
   "cell_type": "code",
   "execution_count": 31,
   "id": "30a0a1bc-596a-4268-9cad-1f20804ba65b",
   "metadata": {},
   "outputs": [
    {
     "data": {
      "text/plain": [
       "3"
      ]
     },
     "execution_count": 31,
     "metadata": {},
     "output_type": "execute_result"
    }
   ],
   "source": [
    "serie.size"
   ]
  },
  {
   "cell_type": "code",
   "execution_count": 32,
   "id": "f2550bf4-42e3-4fef-a1c1-c80b51f5f74d",
   "metadata": {},
   "outputs": [
    {
     "data": {
      "text/plain": [
       "dtype('O')"
      ]
     },
     "execution_count": 32,
     "metadata": {},
     "output_type": "execute_result"
    }
   ],
   "source": [
    "serie.dtype"
   ]
  },
  {
   "cell_type": "code",
   "execution_count": 33,
   "id": "c4707da8-afa3-40cd-9261-c07e908f609b",
   "metadata": {},
   "outputs": [
    {
     "data": {
      "text/plain": [
       "1"
      ]
     },
     "execution_count": 33,
     "metadata": {},
     "output_type": "execute_result"
    }
   ],
   "source": [
    "serie.ndim"
   ]
  },
  {
   "cell_type": "code",
   "execution_count": 34,
   "id": "ab5660dc-a8ab-4136-8a7c-a3dea979f04f",
   "metadata": {},
   "outputs": [
    {
     "data": {
      "text/plain": [
       "1    a\n",
       "2    b\n",
       "3    c\n",
       "dtype: object"
      ]
     },
     "execution_count": 34,
     "metadata": {},
     "output_type": "execute_result"
    }
   ],
   "source": [
    "serie.head()"
   ]
  },
  {
   "cell_type": "code",
   "execution_count": 35,
   "id": "43c5b812-3704-4ba6-91cd-7a7835cb6a8e",
   "metadata": {},
   "outputs": [
    {
     "data": {
      "text/plain": [
       "1    a\n",
       "2    b\n",
       "3    c\n",
       "dtype: object"
      ]
     },
     "execution_count": 35,
     "metadata": {},
     "output_type": "execute_result"
    }
   ],
   "source": [
    "serie.tail()"
   ]
  },
  {
   "cell_type": "code",
   "execution_count": 36,
   "id": "1ea0efd2-f6e6-4143-93fc-d4e90a0a4283",
   "metadata": {},
   "outputs": [],
   "source": [
    "# most applied methods"
   ]
  },
  {
   "cell_type": "code",
   "execution_count": 37,
   "id": "cd9c15f1-a88b-4a31-8e75-d674a2495289",
   "metadata": {},
   "outputs": [],
   "source": [
    "variable = pd.Series([8, 3, 6, 5, 1], index=['b', 'd', 'c', \"a\", \"e\"])"
   ]
  },
  {
   "cell_type": "code",
   "execution_count": 38,
   "id": "f07e35b6-3356-4ee7-8278-45788a0a796a",
   "metadata": {},
   "outputs": [
    {
     "data": {
      "text/plain": [
       "b    8\n",
       "d    3\n",
       "c    6\n",
       "a    5\n",
       "e    1\n",
       "dtype: int64"
      ]
     },
     "execution_count": 38,
     "metadata": {},
     "output_type": "execute_result"
    }
   ],
   "source": [
    "variable"
   ]
  },
  {
   "cell_type": "code",
   "execution_count": 39,
   "id": "199ff339-d906-40f2-8362-66d69e00f122",
   "metadata": {},
   "outputs": [
    {
     "data": {
      "text/plain": [
       "a    5\n",
       "b    8\n",
       "c    6\n",
       "d    3\n",
       "e    1\n",
       "dtype: int64"
      ]
     },
     "execution_count": 39,
     "metadata": {},
     "output_type": "execute_result"
    }
   ],
   "source": [
    "variable.sort_index()"
   ]
  },
  {
   "cell_type": "code",
   "execution_count": 40,
   "id": "cb580e8b-d204-4f83-bae9-4f2d488ef67b",
   "metadata": {},
   "outputs": [
    {
     "data": {
      "text/plain": [
       "e    1\n",
       "d    3\n",
       "a    5\n",
       "c    6\n",
       "b    8\n",
       "dtype: int64"
      ]
     },
     "execution_count": 40,
     "metadata": {},
     "output_type": "execute_result"
    }
   ],
   "source": [
    "variable.sort_values()"
   ]
  },
  {
   "cell_type": "code",
   "execution_count": 42,
   "id": "2795063e-0d41-4fc3-88b9-276694808ce2",
   "metadata": {},
   "outputs": [
    {
     "data": {
      "text/plain": [
       "b    False\n",
       "d    False\n",
       "c     True\n",
       "a    False\n",
       "e     True\n",
       "dtype: bool"
      ]
     },
     "execution_count": 42,
     "metadata": {},
     "output_type": "execute_result"
    }
   ],
   "source": [
    "variable.isin([6, 1])"
   ]
  },
  {
   "cell_type": "code",
   "execution_count": 44,
   "id": "f9b457ac-8ec7-4d6d-bf10-ef8d10b20c12",
   "metadata": {},
   "outputs": [
    {
     "data": {
      "text/plain": [
       "c    6\n",
       "e    1\n",
       "dtype: int64"
      ]
     },
     "execution_count": 44,
     "metadata": {},
     "output_type": "execute_result"
    }
   ],
   "source": [
    "variable[variable.isin([6, 1])]"
   ]
  },
  {
   "cell_type": "code",
   "execution_count": 45,
   "id": "4fe2eb90-4943-4567-8128-cf149116da97",
   "metadata": {},
   "outputs": [
    {
     "data": {
      "text/plain": [
       "array([8, 3, 6, 5, 1])"
      ]
     },
     "execution_count": 45,
     "metadata": {},
     "output_type": "execute_result"
    }
   ],
   "source": [
    "variable.values"
   ]
  },
  {
   "cell_type": "code",
   "execution_count": 46,
   "id": "edab9cf6-9501-484b-b29c-cf060ffefb79",
   "metadata": {},
   "outputs": [
    {
     "data": {
      "text/plain": [
       "[8, 3, 6, 5, 1]"
      ]
     },
     "execution_count": 46,
     "metadata": {},
     "output_type": "execute_result"
    }
   ],
   "source": [
    "[i for i in variable.values]"
   ]
  },
  {
   "cell_type": "code",
   "execution_count": 47,
   "id": "e5824a04-c642-458d-bab4-20b2195648e6",
   "metadata": {},
   "outputs": [
    {
     "data": {
      "text/plain": [
       "Index(['b', 'd', 'c', 'a', 'e'], dtype='object')"
      ]
     },
     "execution_count": 47,
     "metadata": {},
     "output_type": "execute_result"
    }
   ],
   "source": [
    "variable.index"
   ]
  },
  {
   "cell_type": "code",
   "execution_count": 48,
   "id": "581d3458-2a5a-4d7f-8f9b-47e5411da257",
   "metadata": {},
   "outputs": [
    {
     "data": {
      "text/plain": [
       "['b', 'd', 'c', 'a', 'e']"
      ]
     },
     "execution_count": 48,
     "metadata": {},
     "output_type": "execute_result"
    }
   ],
   "source": [
    "[i for i in variable.index]"
   ]
  },
  {
   "cell_type": "code",
   "execution_count": 49,
   "id": "420d93cd-f128-46ab-954a-61c9ac914e12",
   "metadata": {},
   "outputs": [
    {
     "data": {
      "text/plain": [
       "<zip at 0x7f1062d4f480>"
      ]
     },
     "execution_count": 49,
     "metadata": {},
     "output_type": "execute_result"
    }
   ],
   "source": [
    "variable.items()"
   ]
  },
  {
   "cell_type": "code",
   "execution_count": 50,
   "id": "98febd9a-c326-4073-869a-383085611c57",
   "metadata": {},
   "outputs": [
    {
     "data": {
      "text/plain": [
       "<bound method Series.items of b    8\n",
       "d    3\n",
       "c    6\n",
       "a    5\n",
       "e    1\n",
       "dtype: int64>"
      ]
     },
     "execution_count": 50,
     "metadata": {},
     "output_type": "execute_result"
    }
   ],
   "source": [
    "variable.items"
   ]
  },
  {
   "cell_type": "code",
   "execution_count": 51,
   "id": "fc9f60ad-3f26-4983-bc08-f22084ad23a3",
   "metadata": {},
   "outputs": [
    {
     "data": {
      "text/plain": [
       "[('b', 8), ('d', 3), ('c', 6), ('a', 5), ('e', 1)]"
      ]
     },
     "execution_count": 51,
     "metadata": {},
     "output_type": "execute_result"
    }
   ],
   "source": [
    "list(variable.items())"
   ]
  },
  {
   "cell_type": "code",
   "execution_count": 53,
   "id": "687af639-8771-46d0-9457-7365442bfda2",
   "metadata": {},
   "outputs": [
    {
     "name": "stdout",
     "output_type": "stream",
     "text": [
      "Index:  b  value:  8\n",
      "Index:  d  value:  3\n",
      "Index:  c  value:  6\n",
      "Index:  a  value:  5\n",
      "Index:  e  value:  1\n"
     ]
    }
   ],
   "source": [
    "for index, value in list(variable.items()):\n",
    "    print(\"Index: \", index, \" value: \", value)"
   ]
  },
  {
   "cell_type": "code",
   "execution_count": null,
   "id": "e4e9a9b8-263f-4356-8f8e-cf0eb058f047",
   "metadata": {},
   "outputs": [],
   "source": []
  }
 ],
 "metadata": {
  "kernelspec": {
   "display_name": "Python 3 (ipykernel)",
   "language": "python",
   "name": "python3"
  },
  "language_info": {
   "codemirror_mode": {
    "name": "ipython",
    "version": 3
   },
   "file_extension": ".py",
   "mimetype": "text/x-python",
   "name": "python",
   "nbconvert_exporter": "python",
   "pygments_lexer": "ipython3",
   "version": "3.8.17"
  }
 },
 "nbformat": 4,
 "nbformat_minor": 5
}
